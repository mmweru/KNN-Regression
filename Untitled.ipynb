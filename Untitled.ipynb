{
 "cells": [
  {
   "cell_type": "markdown",
   "id": "f03ff10c",
   "metadata": {},
   "source": [
    "## KNN Regression"
   ]
  },
  {
   "cell_type": "markdown",
   "id": "5f318c32",
   "metadata": {},
   "source": [
    "### Necessary libraries\n"
   ]
  },
  {
   "cell_type": "code",
   "execution_count": 1,
   "id": "d98bf6d7",
   "metadata": {},
   "outputs": [],
   "source": [
    "import pandas as pd\n",
    "from sklearn.model_selection import train_test_split\n",
    "from sklearn.preprocessing import StandardScaler\n",
    "from sklearn.neighbors import KNeighborsRegressor\n",
    "from sklearn.metrics import mean_squared_error, r2_score\n",
    "import numpy as np"
   ]
  },
  {
   "cell_type": "markdown",
   "id": "93fec6bc",
   "metadata": {},
   "source": [
    "### Fetch data from original source"
   ]
  },
  {
   "cell_type": "code",
   "execution_count": 2,
   "id": "4cdfe81a",
   "metadata": {},
   "outputs": [],
   "source": [
    "data_url = \"http://lib.stat.cmu.edu/datasets/boston\"\n",
    "raw_df = pd.read_csv(data_url, sep=\"\\s+\", skiprows=22, header=None)"
   ]
  },
  {
   "cell_type": "markdown",
   "id": "17d7fdf2",
   "metadata": {},
   "source": [
    "### Preprocessing the data"
   ]
  },
  {
   "cell_type": "code",
   "execution_count": 3,
   "id": "c3734a45",
   "metadata": {},
   "outputs": [],
   "source": [
    "data = np.hstack([raw_df.values[::2, :], raw_df.values[1::2, :2]])\n",
    "target = raw_df.values[1::2, 2]"
   ]
  },
  {
   "cell_type": "markdown",
   "id": "7ab8acfb",
   "metadata": {},
   "source": [
    "### Train-Test-Validation sets"
   ]
  },
  {
   "cell_type": "code",
   "execution_count": 4,
   "id": "613adb28",
   "metadata": {},
   "outputs": [],
   "source": [
    "X_train, X_val, y_train, y_val = train_test_split(data, target, test_size=0.3, random_state=42)\n",
    "X_train, X_test, y_train, y_test = train_test_split(X_train, y_train, test_size=0.2, random_state=42)"
   ]
  },
  {
   "cell_type": "markdown",
   "id": "5e26d4f5",
   "metadata": {},
   "source": [
    "### Feature Standardization"
   ]
  },
  {
   "cell_type": "code",
   "execution_count": 5,
   "id": "6975bc5c",
   "metadata": {},
   "outputs": [],
   "source": [
    "scaler = StandardScaler()\n",
    "X_train = scaler.fit_transform(X_train)\n",
    "X_val = scaler.transform(X_val)\n",
    "X_test = scaler.transform(X_test)"
   ]
  },
  {
   "cell_type": "markdown",
   "id": "f096b1b0",
   "metadata": {},
   "source": [
    "### KNN regression with hyperparameter tuning"
   ]
  },
  {
   "cell_type": "code",
   "execution_count": 6,
   "id": "8275fea4",
   "metadata": {},
   "outputs": [],
   "source": [
    "def knn_regression(X_train, y_train, X_val, y_val, k):\n",
    "  model = KNeighborsRegressor(n_neighbors=k)\n",
    "  model.fit(X_train, y_train)\n",
    "  y_pred = model.predict(X_val)\n",
    "  mse = mean_squared_error(y_val, y_pred)\n",
    "  return mse"
   ]
  },
  {
   "cell_type": "markdown",
   "id": "a09f1f9e",
   "metadata": {},
   "source": [
    "### Hyperparameter Tuning (k-value)"
   ]
  },
  {
   "cell_type": "code",
   "execution_count": 7,
   "id": "7bc85d08",
   "metadata": {},
   "outputs": [
    {
     "name": "stdout",
     "output_type": "stream",
     "text": [
      "3\n"
     ]
    }
   ],
   "source": [
    "k_values = [3, 5, 7, 10]\n",
    "mse_scores = []\n",
    "for k in k_values:\n",
    "  mse = knn_regression(X_train, y_train, X_val, y_val, k)\n",
    "  mse_scores.append(mse)\n",
    "\n",
    "best_k = k_values[mse_scores.index(min(mse_scores))]\n",
    "print(best_k)"
   ]
  },
  {
   "cell_type": "markdown",
   "id": "7f607a75",
   "metadata": {},
   "source": [
    "## Function for Distance Weighting"
   ]
  },
  {
   "cell_type": "code",
   "execution_count": 8,
   "id": "8fe7521c",
   "metadata": {},
   "outputs": [],
   "source": [
    "def distance_weight(distances):\n",
    "  weights = 1 / distances\n",
    "  weights = weights / np.sum(weights)\n",
    "  return weights"
   ]
  },
  {
   "cell_type": "markdown",
   "id": "2702dc35",
   "metadata": {},
   "source": [
    "### KNN Regression with Distance Weighting"
   ]
  },
  {
   "cell_type": "code",
   "execution_count": 9,
   "id": "96464176",
   "metadata": {},
   "outputs": [],
   "source": [
    "class WeightedKNNRegressor(KNeighborsRegressor):\n",
    "    def predict(self, X):\n",
    "        distances, indices = self.kneighbors(X)\n",
    "        weights = distance_weight(distances)\n",
    "        y_pred = np.average(self._y[indices], weights=weights, axis=1)\n",
    "        return y_pred\n",
    "\n",
    "model = WeightedKNNRegressor(n_neighbors=best_k)\n",
    "model.fit(X_train, y_train)\n",
    "y_pred = model.predict(X_test)"
   ]
  },
  {
   "cell_type": "markdown",
   "id": "bb9d8385",
   "metadata": {},
   "source": [
    "### Model Evaluation"
   ]
  },
  {
   "cell_type": "code",
   "execution_count": 10,
   "id": "6d09ead4",
   "metadata": {},
   "outputs": [],
   "source": [
    "mse = mean_squared_error(y_test, y_pred)\n",
    "r2 = r2_score(y_test, y_pred)"
   ]
  },
  {
   "cell_type": "code",
   "execution_count": 11,
   "id": "33927b51",
   "metadata": {},
   "outputs": [
    {
     "name": "stdout",
     "output_type": "stream",
     "text": [
      "Mean Squared Error: 33.51687725132402\n",
      "R-squared Score: 0.5526600345348396\n"
     ]
    }
   ],
   "source": [
    "print(f\"Mean Squared Error: {mse}\")\n",
    "print(f\"R-squared Score: {r2}\")"
   ]
  },
  {
   "cell_type": "code",
   "execution_count": null,
   "id": "dccce884",
   "metadata": {},
   "outputs": [],
   "source": []
  }
 ],
 "metadata": {
  "kernelspec": {
   "display_name": "Python 3 (ipykernel)",
   "language": "python",
   "name": "python3"
  },
  "language_info": {
   "codemirror_mode": {
    "name": "ipython",
    "version": 3
   },
   "file_extension": ".py",
   "mimetype": "text/x-python",
   "name": "python",
   "nbconvert_exporter": "python",
   "pygments_lexer": "ipython3",
   "version": "3.9.16"
  }
 },
 "nbformat": 4,
 "nbformat_minor": 5
}
